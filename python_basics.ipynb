{
 "cells": [
  {
   "cell_type": "markdown",
   "id": "e3a88987-6eec-4145-8f25-aca2cadbda2c",
   "metadata": {},
   "source": [
    "# Python Basics Summary\n",
    "- Set up environment (Python 3, virtualenv, Jupyter Notebook).\n",
    "- Refreshed Python basics: variable, operators, functions, classes, list, tuple, set and dict comprehensions."
   ]
  },
  {
   "cell_type": "code",
   "execution_count": 1,
   "id": "c66cfaa2-0c21-4a88-bc55-941639a50317",
   "metadata": {},
   "outputs": [
    {
     "name": "stdout",
     "output_type": "stream",
     "text": [
      "Hello World\n"
     ]
    }
   ],
   "source": [
    "print(\"Hello World\")"
   ]
  },
  {
   "cell_type": "markdown",
   "id": "5ccf8a7e-f5a5-4441-b8d5-2fea6815f143",
   "metadata": {
    "jp-MarkdownHeadingCollapsed": true
   },
   "source": [
    "### Variables"
   ]
  },
  {
   "cell_type": "code",
   "execution_count": 2,
   "id": "8241032e-ca3c-4157-a40f-f215d936a24c",
   "metadata": {},
   "outputs": [
    {
     "name": "stdout",
     "output_type": "stream",
     "text": [
      "<class 'int'>\n",
      "<class 'float'>\n",
      "<class 'complex'>\n",
      "<class 'int'>\n"
     ]
    }
   ],
   "source": [
    "x = 3\n",
    "print(type(x))\n",
    "\n",
    "abcd = 534.55\n",
    "print(type(abcd))\n",
    "\n",
    "a,b,c,d = 3,5,6.0,-3\n",
    "\n",
    "\n",
    "f = 2+4j\n",
    "print(type(f))\n",
    "\n",
    "s = \"Hello, how are you?\"\n",
    "print(type(x))"
   ]
  },
  {
   "cell_type": "markdown",
   "id": "282fd467-ab45-46e1-aa63-1d329d332bb5",
   "metadata": {
    "jp-MarkdownHeadingCollapsed": true
   },
   "source": [
    "### Operators"
   ]
  },
  {
   "cell_type": "code",
   "execution_count": 3,
   "id": "47ede460-e3fe-4d05-b933-4510e3403ec9",
   "metadata": {},
   "outputs": [
    {
     "name": "stdout",
     "output_type": "stream",
     "text": [
      "<class 'int'>\n",
      "<class 'float'>\n",
      "HelloWorld\n",
      "3\n"
     ]
    }
   ],
   "source": [
    "sum_a_b = a + b\n",
    "print(type(sum_a_b))\n",
    "\n",
    "sum_a_c = a + c\n",
    "print(type(sum_a_c))   # Typecasted\n",
    "\n",
    "s1 = \"Hello\"\n",
    "s2 = \"World\"\n",
    "print(s1+s2)\n",
    "\n",
    "print(10//3)   # Floor"
   ]
  },
  {
   "cell_type": "markdown",
   "id": "3c5c45ed-addf-4914-80c2-d6348ef55b13",
   "metadata": {
    "jp-MarkdownHeadingCollapsed": true
   },
   "source": [
    "### Some Useful Functions"
   ]
  },
  {
   "cell_type": "code",
   "execution_count": 4,
   "id": "04714c0f-6bec-4c66-8651-745ffc2b4750",
   "metadata": {},
   "outputs": [
    {
     "name": "stdout",
     "output_type": "stream",
     "text": [
      "(3, 4)\n",
      "<class 'tuple'>\n",
      "True\n",
      "False\n",
      "True\n",
      "16\n",
      "16\n",
      "2\n"
     ]
    },
    {
     "name": "stdin",
     "output_type": "stream",
     "text": [
      "Enter a number 12\n"
     ]
    },
    {
     "name": "stdout",
     "output_type": "stream",
     "text": [
      "<class 'str'>\n",
      "Help on built-in function pow in module builtins:\n",
      "\n",
      "pow(base, exp, mod=None)\n",
      "    Equivalent to base**exp with 2 arguments or base**exp % mod with 3 arguments\n",
      "\n",
      "    Some types, such as ints, are able to use a more efficient algorithm when\n",
      "    invoked using the three argument form.\n",
      "\n"
     ]
    },
    {
     "data": {
      "text/plain": [
       "\u001b[31mSignature:\u001b[39m pow(base, exp, mod=\u001b[38;5;28;01mNone\u001b[39;00m)\n",
       "\u001b[31mDocstring:\u001b[39m\n",
       "Equivalent to base**exp with 2 arguments or base**exp % mod with 3 arguments\n",
       "\n",
       "Some types, such as ints, are able to use a more efficient algorithm when\n",
       "invoked using the three argument form.\n",
       "\u001b[31mType:\u001b[39m      builtin_function_or_method"
      ]
     },
     "metadata": {},
     "output_type": "display_data"
    }
   ],
   "source": [
    "g = divmod(34, 10)   # return (quotient, remainder) in tuple form\n",
    "print(g)\n",
    "print(type(g))\n",
    "\n",
    "print(isinstance(3,int))  # checks if 3 is of type int\n",
    "print(isinstance(3.4,int)) \n",
    "print(isinstance(3,(int, float)))  # check one of these\n",
    "\n",
    "# pow(x,y,z) x raises to power y and remainder by z\n",
    "print(pow(2,4))\n",
    "print(2**4)\n",
    "print(pow(2,4,7))\n",
    "\n",
    "str = input(\"Enter a number\")\n",
    "print(type(str))  # type of input is always string\n",
    "\n",
    "# To view details\n",
    "pow?\n",
    "help(pow)"
   ]
  },
  {
   "cell_type": "markdown",
   "id": "48081674-b5d6-48ad-900f-bdc4838f8012",
   "metadata": {
    "jp-MarkdownHeadingCollapsed": true
   },
   "source": [
    "### Loop"
   ]
  },
  {
   "cell_type": "code",
   "execution_count": 5,
   "id": "86c2b468-3681-45ef-8bf6-e9443351943c",
   "metadata": {},
   "outputs": [
    {
     "name": "stdout",
     "output_type": "stream",
     "text": [
      "1\n",
      "2\n",
      "3\n",
      "4\n",
      "5\n",
      "6\n",
      "7\n",
      "8\n",
      "9\n",
      "10\n",
      "[0, 1, 4, 9, 16, 25, 36, 49, 64, 81]\n",
      "0\n",
      "2\n",
      "4\n",
      "6\n",
      "8\n",
      "[0, 4, 16, 36, 64]\n",
      "cherry\n",
      "4.9\n",
      "apple\n",
      "Loop terminates with success\n",
      "Outside the loop\n",
      "A 10\n",
      "B -19\n",
      "C abc\n"
     ]
    }
   ],
   "source": [
    "L1 = []\n",
    "for i in range(10):\n",
    "    print(i+1)\n",
    "    L1.append(i**2)\n",
    "print(L1)\n",
    "\n",
    "L2 = []\n",
    "for i in range(0, 10, 2):  # i=0; i<10; i+=2\n",
    "    print(i)\n",
    "    L2.append(i**2)\n",
    "print(L2)\n",
    "\n",
    "# Else in for loop\n",
    "S = {\"apple\", 4.9, \"cherry\"}\n",
    "for x in S:\n",
    "    print(x)\n",
    "else:\n",
    "    print(\"Loop terminates with success\")\n",
    "print(\"Outside the loop\")\n",
    "\n",
    "D = {\"A\":10, \"B\":-19, \"C\":\"abc\"}\n",
    "for x in D:\n",
    "    print(x, D[x])"
   ]
  },
  {
   "cell_type": "markdown",
   "id": "45ead77f-00ee-4bc5-930e-ef4d6cd7754b",
   "metadata": {
    "jp-MarkdownHeadingCollapsed": true
   },
   "source": [
    "### Functions"
   ]
  },
  {
   "cell_type": "code",
   "execution_count": 6,
   "id": "0c412ee9-036c-4648-9fde-0d5ad9e27795",
   "metadata": {},
   "outputs": [
    {
     "name": "stdout",
     "output_type": "stream",
     "text": [
      "Hi! My name is John\n",
      "A:  2\n",
      "B:  3\n",
      "C:  game\n",
      "3\n",
      "0\n"
     ]
    }
   ],
   "source": [
    "def greet(name):\n",
    "    return f\"Hi! My name is {name}\"\n",
    "\n",
    "print(greet(\"John\"))\n",
    "\n",
    "# Order of arguments\n",
    "def f(a,b,c):\n",
    "    print(\"A: \", a)\n",
    "    print(\"B: \", b)\n",
    "    print(\"C: \", c)\n",
    "\n",
    "f(c= \"game\", a=2, b=3)\n",
    "\n",
    "\n",
    "# When arguments are not fixed we use\n",
    "def add(*args):\n",
    "    sum = 0\n",
    "    for i in range(len(args)):\n",
    "        sum += args[i]\n",
    "    return sum\n",
    "\n",
    "add(1,2,3,4,5)\n",
    "\n",
    "# Default value\n",
    "def f(sum = 0):\n",
    "    print(sum)\n",
    "\n",
    "f(3)\n",
    "f()"
   ]
  },
  {
   "cell_type": "markdown",
   "id": "3492276f-e70e-4a40-b93f-93aa31d35963",
   "metadata": {
    "jp-MarkdownHeadingCollapsed": true
   },
   "source": [
    "### Classes"
   ]
  },
  {
   "cell_type": "code",
   "execution_count": 7,
   "id": "1c407032-a3e4-4f12-86a3-66d9aa28a999",
   "metadata": {},
   "outputs": [
    {
     "name": "stdout",
     "output_type": "stream",
     "text": [
      "Hi, I am John\n"
     ]
    }
   ],
   "source": [
    "#Class\n",
    "class Person:\n",
    "    def __init__(self, name):    # constructor\n",
    "        self.name = name\n",
    "\n",
    "    def greet(self):\n",
    "        return f\"Hi, I am {self.name}\"\n",
    "\n",
    "p = Person(\"John\")    # <-- calls __init__(\"John\")\n",
    "print(p.greet())"
   ]
  },
  {
   "cell_type": "markdown",
   "id": "4a925e2e-5e0a-4222-98c3-4f771e4b7bdb",
   "metadata": {
    "jp-MarkdownHeadingCollapsed": true
   },
   "source": [
    "### String\n",
    "- Strings are immutable"
   ]
  },
  {
   "cell_type": "code",
   "execution_count": 21,
   "id": "83f7c4e5-e107-465d-b015-c2d56f9d377f",
   "metadata": {},
   "outputs": [
    {
     "name": "stdout",
     "output_type": "stream",
     "text": [
      "How are yo\n",
      "ou\n",
      "Hwaeyu\n",
      "How  are   you\n",
      "Adenkgnhk\n"
     ]
    },
    {
     "data": {
      "text/plain": [
       "True"
      ]
     },
     "execution_count": 21,
     "metadata": {},
     "output_type": "execute_result"
    }
   ],
   "source": [
    "s = \"How are you?\"\n",
    "print(s[0:10])\n",
    "print(s[-3:-1])   # indexing from right->left\n",
    "print(s[0:12:2])  # [start:end:step]\n",
    "\n",
    "s3 = \"   How  are   you  \"\n",
    "print(s3.strip())\n",
    "\n",
    "print(\"AdenkGnHK\".capitalize())\n",
    "\n",
    "\"you\" in s\n"
   ]
  },
  {
   "cell_type": "markdown",
   "id": "dc1ce663-7d4c-4613-9891-f63a39247781",
   "metadata": {},
   "source": [
    "### List, Tuple, Set, Dictionary\n",
    "\n",
    "| Data Structure | Order?    | Changeable?        | Contain duplicates |\n",
    "|----------------|-----------|--------------------|--------------------|\n",
    "| List           | Ordered   | mutable            | duplicates         |\n",
    "| Tuple          | Ordered   | immutable          | duplicates         |\n",
    "| Set            | Unordered | addable/removable  | no duplicates      |\n",
    "| Dictionary     | Unordered | mutable            | no duplicates      |\n"
   ]
  },
  {
   "cell_type": "code",
   "execution_count": 11,
   "id": "dbf09d73-d47e-48f7-b4d9-f5c4e6f86ff7",
   "metadata": {},
   "outputs": [
    {
     "name": "stdout",
     "output_type": "stream",
     "text": [
      "[0, 1, 4, 9, 16]\n",
      "[0, 1, 9, 16, 5]\n",
      "(1, 2, 3, 4)\n",
      "4\n",
      "(1, 2, 3, 4, 5, 6)\n",
      "{1, 3, 4.9, 'name'}\n",
      "{1, 3, 4.9, 23, 'name', 'game'}\n",
      "{1, 3, 4.9, 23, 'name'}\n",
      "{0: 0, 1: 1, 2: 4, 3: 9, 4: 16}\n",
      "{0: 0, 2: 4, 3: 9, 4: 16}\n",
      "{0: 0, 2: 4, 3: 9, 4: 16, 5: 25, 6: 36}\n"
     ]
    }
   ],
   "source": [
    "# List Comprehension\n",
    "my_list = [x**2 for x in range(5)]\n",
    "print(my_list)                  # [0, 1, 4, 9, 16]\n",
    "my_list.append(5)\n",
    "my_list.remove(4)\n",
    "print(my_list)\n",
    "\n",
    "\n",
    "# Tuple Comprehension\n",
    "my_tuple = (1,2,3,4)\n",
    "print(my_tuple)\n",
    "print(length(my_tuple))\n",
    "\n",
    "t2 = (5,6)\n",
    "t3 = my_tuple + t2\n",
    "print(t3)\n",
    "\n",
    "\n",
    "# Set Comprehension\n",
    "my_set = {1,3,4.9,\"name\",3}\n",
    "print(my_set)\n",
    "my_set.update({23,\"game\",1})\n",
    "print(my_set)\n",
    "my_set.remove(\"game\")\n",
    "print(my_set)\n",
    "\n",
    "\n",
    "# Dict Comprehension\n",
    "my_dict = {x: x**2 for x in range(5)}\n",
    "print(my_dict)                    # {0: 0, 1: 1, 2: 4, 3: 9, 4: 16}\n",
    "del my_dict[1]\n",
    "print(my_dict)\n",
    "\n",
    "D2 = {5: 25, 6: 36}\n",
    "my_dict.update(D2)\n",
    "print(my_dict)\n"
   ]
  },
  {
   "cell_type": "code",
   "execution_count": null,
   "id": "9fe7c2b8-5b90-4ad6-8182-7a9ab51b2c7c",
   "metadata": {},
   "outputs": [],
   "source": []
  }
 ],
 "metadata": {
  "kernelspec": {
   "display_name": "Python 3 (ipykernel)",
   "language": "python",
   "name": "python3"
  },
  "language_info": {
   "codemirror_mode": {
    "name": "ipython",
    "version": 3
   },
   "file_extension": ".py",
   "mimetype": "text/x-python",
   "name": "python",
   "nbconvert_exporter": "python",
   "pygments_lexer": "ipython3",
   "version": "3.13.7"
  }
 },
 "nbformat": 4,
 "nbformat_minor": 5
}
