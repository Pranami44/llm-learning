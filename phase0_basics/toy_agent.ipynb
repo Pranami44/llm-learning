{
 "cells": [
  {
   "cell_type": "markdown",
   "id": "62d3f2fc-334c-46c0-9c61-18157756fb1e",
   "metadata": {},
   "source": [
    "# 🧩 Toy Agent\n",
    "This Toy Agent is my **first reasoning experiment** with LLMs.  \n",
    "It combines two simple behaviors:\n",
    "\n",
    "1. **Math Solver** 🧮  \n",
    "   - Evaluates arithmetic expressions (e.g., `10 + 5 * 2 → 20`)  \n",
    "   - Acts like a rule-based calculator.  \n",
    "\n",
    "2. **Language Generator** 💬  \n",
    "   - Falls back to **GPT-2** for open-ended natural language replies.  \n",
    "   - Example: Input → `\"Tell me a story about a dragon\"`  \n",
    "\n",
    "### ✨ Usage\n",
    "- Input: `\"What is 15 + 7 * 2?\"`  \n",
    "  Output: `29`  \n",
    "- Input: `\"Write a poem about the stars.\"`  \n",
    "  Output: *(GPT-2 generated text)*  \n"
   ]
  },
  {
   "cell_type": "code",
   "execution_count": 11,
   "id": "d012309d-c781-43a0-98fa-e389751a30dd",
   "metadata": {},
   "outputs": [],
   "source": [
    "import re\n",
    "from transformers import pipeline"
   ]
  },
  {
   "cell_type": "code",
   "execution_count": 12,
   "id": "82473633-c654-4891-8df9-86399b151606",
   "metadata": {},
   "outputs": [
    {
     "name": "stderr",
     "output_type": "stream",
     "text": [
      "Device set to use mps:0\n"
     ]
    }
   ],
   "source": [
    "gen = pipeline(\"text-generation\", model=\"gpt2\")"
   ]
  },
  {
   "cell_type": "code",
   "execution_count": 21,
   "id": "b356a5a3-6b01-4a67-9e80-2408f4d7b114",
   "metadata": {},
   "outputs": [],
   "source": [
    "# Toy Agent Function\n",
    "def toy_agent(query: str):\n",
    "    # If query looks like math -> solve with Python\n",
    "    # Try to detect and extract math expressions\n",
    "    expr = re.findall(r'[\\d\\+\\-\\*/\\(\\)\\s]+', query)    # Extract math-like substrings\n",
    "    expr = ''.join(expr).strip()  \n",
    "\n",
    "    if expr: \n",
    "        try:\n",
    "            result = eval(expr)    # Built-in function to compute the string expression\n",
    "            return f\"Math result: {result}\"\n",
    "        except:\n",
    "            pass     # fallback to LLM if eval fails\n",
    "    \n",
    "    # Otherwise -> send to LLM\n",
    "    output = gen(query, \n",
    "                 max_new_tokens=60,\n",
    "                 truncation=True,\n",
    "                 pad_token_id=50256\n",
    "                )[0]['generated_text']\n",
    "    return output"
   ]
  },
  {
   "cell_type": "markdown",
   "id": "ac6aba4b-003d-48d2-b1b2-3462457f5dc0",
   "metadata": {},
   "source": [
    "### Tests"
   ]
  },
  {
   "cell_type": "code",
   "execution_count": 24,
   "id": "3d0c0b47-d14a-4fcd-b03e-cff68aa44449",
   "metadata": {},
   "outputs": [
    {
     "name": "stdout",
     "output_type": "stream",
     "text": [
      "Math result: 17\n",
      "Math result: 9\n",
      "Explain why the sky is blue, why no one is here. The place is blue, so why has nothing been found yet? The reason is that the sky is blue because the sky is blue. You can't say there isn't a place.\n",
      "\n",
      "And, if there is, why is there such a place?\n",
      "\n"
     ]
    }
   ],
   "source": [
    "print(toy_agent(\"2 + 3 * 5\"))            # Math → should return 17\n",
    "print(toy_agent(\"What is 10 - 3 + 2?\"))  # Math → should return 9\n",
    "print(toy_agent(\"Explain why the sky is blue\"))  # LLM → language answer"
   ]
  },
  {
   "cell_type": "markdown",
   "id": "9fd399a8-6a9c-43de-8ce0-97e97a9583d3",
   "metadata": {},
   "source": [
    "## Key Learnings:\n",
    "- LLMs alone fail at reasoning/math.\n",
    "- By combining LLMs with tools (here, Python `eval`), we get reliable results.\n",
    "- This is the foundation of Agentic AI."
   ]
  }
 ],
 "metadata": {
  "kernelspec": {
   "display_name": "Python 3 (ipykernel)",
   "language": "python",
   "name": "python3"
  },
  "language_info": {
   "codemirror_mode": {
    "name": "ipython",
    "version": 3
   },
   "file_extension": ".py",
   "mimetype": "text/x-python",
   "name": "python",
   "nbconvert_exporter": "python",
   "pygments_lexer": "ipython3",
   "version": "3.13.7"
  }
 },
 "nbformat": 4,
 "nbformat_minor": 5
}
