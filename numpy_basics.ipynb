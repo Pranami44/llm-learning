{
 "cells": [
  {
   "cell_type": "markdown",
   "id": "6cd46191-544a-4a57-b0df-215134445b22",
   "metadata": {},
   "source": [
    "# Numpy\n",
    "- NumPy is an open-source Python library for scientific computing that provides support for large, multi-dimensional arrays and a collection of high-level mathematical functions to operate on these arrays.\n",
    "- It offers a powerful and efficient n-dimensional array object, enabling faster computations and serving as the foundational library for many other data science and machine learning tools like Pandas and Scikit-learn."
   ]
  },
  {
   "cell_type": "markdown",
   "id": "11fec1d8-f988-4f40-ba30-fd61cb74ef4f",
   "metadata": {},
   "source": [
    "## Properties of numpy array"
   ]
  },
  {
   "cell_type": "markdown",
   "id": "9eb30650-ac50-4d93-8cda-2cf3127f65a9",
   "metadata": {
    "jp-MarkdownHeadingCollapsed": true
   },
   "source": [
    "### dtype\n",
    "- dtype stores data type of the elemenents of array\n",
    "- A numpy array has single data type (homogeneous)"
   ]
  },
  {
   "cell_type": "code",
   "execution_count": 4,
   "id": "ced399c2-178d-4acf-99d2-9f1da21556f1",
   "metadata": {},
   "outputs": [
    {
     "name": "stdout",
     "output_type": "stream",
     "text": [
      "[1 2 3 5 7]\n",
      "<class 'numpy.ndarray'>\n",
      "int32\n",
      "[2 3 5]\n",
      "<class 'numpy.ndarray'>\n"
     ]
    }
   ],
   "source": [
    "import numpy as np\n",
    "\n",
    "a = np.array([1,2,3,5,7], dtype='i')\n",
    "b = np.array((2,3,5))\n",
    "\n",
    "print(a)\n",
    "print(type(a))\n",
    "print(a.dtype)\n",
    "print(b)\n",
    "print(type(b))"
   ]
  },
  {
   "cell_type": "markdown",
   "id": "d42d09a0-ae69-414d-bb5f-daa431ecf796",
   "metadata": {
    "jp-MarkdownHeadingCollapsed": true
   },
   "source": [
    "### Dimensions\n",
    "- Numpy arrays can be multidimensional\n",
    "- We can access an element using 3 indices - array dimension, array index and element index\n",
    "- The size of each arrays must be same"
   ]
  },
  {
   "cell_type": "code",
   "execution_count": 13,
   "id": "07918f1d-9f43-4e7a-8efe-b75411250b53",
   "metadata": {},
   "outputs": [
    {
     "name": "stdout",
     "output_type": "stream",
     "text": [
      "2\n",
      "3\n",
      "2\n",
      "6\n",
      "3\n",
      "-3\n",
      "1\n",
      "0\n"
     ]
    }
   ],
   "source": [
    "a = np.array([[1,2,3],[4,5,6]])\n",
    "print(a.ndim)  # 2 dimensions\n",
    "print(a[0,2])\n",
    "\n",
    "b = np.array([[1,2,3,-1],[4,5,6,9]])\n",
    "print(b.ndim)\n",
    "print(b[1,2])\n",
    "\n",
    "# An array of 2-d arrays is a 3-d array\n",
    "c = np.array([[[1,2,3],[4,5,6], [0,0,-1]], [[-1,-2,-3],[-4,-5,-6], [0,0,1]]])\n",
    "print(c.ndim)\n",
    "print(c[1,0,2])\n",
    "\n",
    "d = np.array([1])\n",
    "print(d.ndim)\n",
    "\n",
    "e = np.array(3)\n",
    "print(e.ndim)"
   ]
  },
  {
   "cell_type": "markdown",
   "id": "81091e55-9bd9-463a-8baa-91fc50d8053a",
   "metadata": {
    "jp-MarkdownHeadingCollapsed": true
   },
   "source": [
    "### Shape\n",
    "- Returns tuple type"
   ]
  },
  {
   "cell_type": "code",
   "execution_count": 11,
   "id": "a2f03f3d-4f37-4a5d-8f75-ba3886a7df68",
   "metadata": {},
   "outputs": [
    {
     "name": "stdout",
     "output_type": "stream",
     "text": [
      "(2, 3, 3)\n",
      "2\n"
     ]
    }
   ],
   "source": [
    "print(c.shape)\n",
    "# (no. of 2-d dimensional arrays, no. of 1-d array in each 2-d array, no. of elements in each 1-d array)\n",
    "\n",
    "print(c.shape[0])"
   ]
  },
  {
   "cell_type": "markdown",
   "id": "af51f490-2eae-4f79-b6da-65826f28c267",
   "metadata": {
    "jp-MarkdownHeadingCollapsed": true
   },
   "source": [
    "### Other Properties"
   ]
  },
  {
   "cell_type": "code",
   "execution_count": 16,
   "id": "43682722-9129-42b0-895b-8164249ece1e",
   "metadata": {},
   "outputs": [
    {
     "name": "stdout",
     "output_type": "stream",
     "text": [
      "18\n",
      "144\n"
     ]
    }
   ],
   "source": [
    "print(c.size) # total no. of elements\n",
    "\n",
    "print(c.nbytes) # total no. of bytes"
   ]
  },
  {
   "cell_type": "markdown",
   "id": "a847f891-5c57-483e-b0b0-a81dcbd8db41",
   "metadata": {
    "jp-MarkdownHeadingCollapsed": true
   },
   "source": [
    "### arange, reshape, random, zeroes"
   ]
  },
  {
   "cell_type": "code",
   "execution_count": 26,
   "id": "879d4bd4-d5e0-4eca-872c-d3f2319b50f5",
   "metadata": {},
   "outputs": [
    {
     "name": "stdout",
     "output_type": "stream",
     "text": [
      "[ 0  1  2  3  4  5  6  7  8  9 10 11 12 13 14 15 16 17 18 19 20 21 22 23\n",
      " 24 25 26 27 28 29 30 31 32 33 34 35 36 37 38 39 40 41 42 43 44 45 46 47\n",
      " 48 49 50 51 52 53 54 55 56 57 58 59 60 61 62 63 64 65 66 67 68 69 70 71\n",
      " 72 73 74 75 76 77 78 79 80 81 82 83 84 85 86 87 88 89 90 91 92 93 94 95\n",
      " 96 97 98 99]\n",
      "[20 23 26 29 32 35 38 41 44 47 50 53 56 59 62 65 68 71 74 77 80 83 86 89\n",
      " 92 95 98]\n",
      "[9 0 6 1 8 7 4 5 3 2]\n",
      "28\n",
      "[0.67092837 0.33182519 0.67872096 0.59500951 0.75766752 0.01934145\n",
      " 0.17627079 0.63337137 0.61409882 0.69279467 0.12586912 0.07755747\n",
      " 0.14897148 0.05708899 0.60549432 0.33240047 0.30857369 0.90883778\n",
      " 0.14345581 0.99272771 0.61313637 0.33405223 0.86269753 0.82125228\n",
      " 0.69226906 0.6434854  0.88723943 0.24260548 0.56206141 0.71384101\n",
      " 0.73518312 0.12834575 0.23633905 0.88112841 0.35564097 0.24758638\n",
      " 0.38803474 0.20672726 0.39165789 0.49140577 0.39339931 0.03983001\n",
      " 0.14197346 0.74934436 0.66353073 0.36138061 0.89426466 0.55953116\n",
      " 0.55446594 0.07152543 0.28570505 0.02575699 0.69131372 0.29847086\n",
      " 0.70244499 0.51316236 0.71205052 0.42703308 0.00895372 0.88526629\n",
      " 0.34986345 0.57748191 0.58612364 0.39263113 0.67454248 0.4792894\n",
      " 0.16045834 0.69282904 0.11102496 0.25893376 0.65882197 0.42034147\n",
      " 0.27089472 0.31643269 0.16476143 0.22801843 0.56479134 0.81542233\n",
      " 0.46350471 0.51777401 0.11779458 0.05215583 0.20882508 0.43576501\n",
      " 0.46038777 0.43136667 0.92610631 0.26102363 0.08784511 0.93540001\n",
      " 0.21558308 0.7068079  0.7851458  0.99906031 0.51223783 0.74326546\n",
      " 0.01607979 0.15091452 0.70247966 0.31021385]\n",
      "[[0.88100925 0.58638047 0.91815568]\n",
      " [0.31921754 0.42603155 0.83026063]]\n",
      "2\n",
      "[[[[0.34064969 0.68208557]\n",
      "   [0.91045977 0.04134879]\n",
      "   [0.98841608 0.91827355]\n",
      "   [0.664444   0.3239176 ]]\n",
      "\n",
      "  [[0.21253357 0.21858073]\n",
      "   [0.43082692 0.97274072]\n",
      "   [0.69860952 0.69840421]\n",
      "   [0.38114089 0.50937659]]\n",
      "\n",
      "  [[0.25870945 0.69969697]\n",
      "   [0.46814411 0.15745293]\n",
      "   [0.6058082  0.08741651]\n",
      "   [0.68353248 0.93021361]]]\n",
      "\n",
      "\n",
      " [[[0.34920512 0.69015444]\n",
      "   [0.54317017 0.16062131]\n",
      "   [0.47917147 0.38728952]\n",
      "   [0.46051312 0.85435577]]\n",
      "\n",
      "  [[0.99358511 0.06083052]\n",
      "   [0.69874279 0.7052773 ]\n",
      "   [0.36898809 0.5255886 ]\n",
      "   [0.40769417 0.77064598]]\n",
      "\n",
      "  [[0.44601169 0.36191714]\n",
      "   [0.23306906 0.49530097]\n",
      "   [0.34835106 0.0116872 ]\n",
      "   [0.27485402 0.71427922]]]]\n",
      "4\n",
      "[[ 0  1  2  3  4  5  6  7  8  9 10 11 12 13 14 15 16 17 18 19 20 21 22 23\n",
      "  24]\n",
      " [25 26 27 28 29 30 31 32 33 34 35 36 37 38 39 40 41 42 43 44 45 46 47 48\n",
      "  49]\n",
      " [50 51 52 53 54 55 56 57 58 59 60 61 62 63 64 65 66 67 68 69 70 71 72 73\n",
      "  74]\n",
      " [75 76 77 78 79 80 81 82 83 84 85 86 87 88 89 90 91 92 93 94 95 96 97 98\n",
      "  99]]\n",
      "(4, 25)\n"
     ]
    }
   ],
   "source": [
    "A = np.arange(100)\n",
    "print(A)\n",
    "\n",
    "B = np.arange(20,100,3)  # (start, end, jump)\n",
    "print(B)\n",
    "\n",
    "C = np.random.permutation(np.arange(10))  # 0 to 10 array but shuffled\n",
    "print(C)\n",
    "\n",
    "print(np.random.randint(20,30))  # returns a random integer between 20 to 30\n",
    "\n",
    "print(np.random.rand(100))  # generate random 100 nos. from 0 to 10\n",
    "\n",
    "D = np.random.rand(2,3)   # generate random nos. in 2x3 matrix from 0 to 10\n",
    "print(D)\n",
    "print(D.ndim)\n",
    "\n",
    "E = np.random.rand(2,3,4,2)\n",
    "print(E)\n",
    "print(E.ndim)\n",
    "\n",
    "F = np.arange(100).reshape(4,25)\n",
    "print(F)\n",
    "print(F.shape)"
   ]
  },
  {
   "cell_type": "markdown",
   "id": "5eb5535f-4798-4b9a-9bbc-9a94d5c36d48",
   "metadata": {
    "jp-MarkdownHeadingCollapsed": true
   },
   "source": [
    "### Slicing\n",
    "- Slicing doesn't copy data instead it points to the index.\n",
    "- If our algorithm is not changing the elements, slicing give a very effecient and faster access to elements or subarrays"
   ]
  },
  {
   "cell_type": "code",
   "execution_count": 32,
   "id": "2799e4fa-2843-4598-a06b-64236a8cbd07",
   "metadata": {},
   "outputs": [
    {
     "name": "stdout",
     "output_type": "stream",
     "text": [
      "[3 4 5 6 7 8 9]\n",
      "[    0     1     2 -1200     4     5     6     7     8     9    10    11\n",
      "    12    13    14    15    16    17    18    19    20    21    22    23\n",
      "    24    25    26    27    28    29    30    31    32    33    34    35\n",
      "    36    37    38    39    40    41    42    43    44    45    46    47\n",
      "    48    49    50    51    52    53    54    55    56    57    58    59\n",
      "    60    61    62    63    64    65    66    67    68    69    70    71\n",
      "    72    73    74    75    76    77    78    79    80    81    82    83\n",
      "    84    85    86    87    88    89    90    91    92    93    94    95\n",
      "    96    97    98    99]\n",
      "[ 0  5 10 15 20 25 30 35 40 45 50 55 60 65 70 75 80 85 90 95]\n",
      "[99 94 89 84 79 74 69 64 59 54 49 44 39 34 29 24 19 14  9  4]\n"
     ]
    }
   ],
   "source": [
    "a = np.arange(100)\n",
    "b = a[3:10]   # starting at index 3 and ending at 9\n",
    "print(b)\n",
    "\n",
    "b[0] = -1200\n",
    "print(a)\n",
    "\n",
    "b = a[3:10].copy() # copies the memory\n",
    "\n",
    "print(a[::5])  # picks element after 5 elements\n",
    "print(a[::-5])  # picks element after 5 elements but in reverse. To reverse array -1"
   ]
  },
  {
   "cell_type": "markdown",
   "id": "3922b59f-5b90-4d91-9e42-6fcaff5e5106",
   "metadata": {
    "jp-MarkdownHeadingCollapsed": true
   },
   "source": [
    "### Indexing Functions"
   ]
  },
  {
   "cell_type": "code",
   "execution_count": 35,
   "id": "de473a38-6ab6-4a8c-b977-ba1317a15182",
   "metadata": {},
   "outputs": [
    {
     "name": "stdout",
     "output_type": "stream",
     "text": [
      "3\n",
      "[ 0  1  2  3  4  5  6  7  8  9 10 11 12 13 14 15 16 17 18 19 20 21 22 23\n",
      " 24 25 26 27 28 29 30 31 32 33 34 35 36 37 38 39 40 41 42 43 44 45 46 47\n",
      " 48 49 50 51 52 53 54 55 56 57 58 59 60 61 62 63 64 65 66 67 68 69 70 71\n",
      " 72 73 74 75 76 77 78 79 80 81 82 83 84 85 86 87 88 89 90 91 92 93 94 95\n",
      " 96 97 98 99]\n"
     ]
    }
   ],
   "source": [
    "# Find where -1200 is located in array a.\n",
    "\n",
    "idx = np.argwhere(a==-1200)[0][0]  # argwhere returns 2-d array, [0][0] gives exact index\n",
    "print(idx)\n",
    "\n",
    "a[idx] = 3\n",
    "print(a)"
   ]
  },
  {
   "cell_type": "code",
   "execution_count": 41,
   "id": "05fcd142-5b83-48a8-a3e0-e5246d45a2bc",
   "metadata": {},
   "outputs": [
    {
     "name": "stdout",
     "output_type": "stream",
     "text": [
      "[[6. 4. 4. 5.]\n",
      " [5. 4. 4. 2.]\n",
      " [1. 6. 4. 0.]\n",
      " [2. 7. 6. 1.]\n",
      " [3. 0. 7. 7.]]\n",
      "4.0\n",
      "[5. 4. 4. 2.]\n",
      "[4. 4. 6. 7. 0.]\n",
      "[[4. 2.]\n",
      " [4. 0.]]\n",
      "[[6. 5. 1. 2. 3.]\n",
      " [4. 4. 6. 7. 0.]\n",
      " [4. 4. 4. 6. 7.]\n",
      " [5. 2. 0. 1. 7.]]\n"
     ]
    }
   ],
   "source": [
    "a = np.round(10*np.random.rand(5,4))  # multiply by 10 and rounds up\n",
    "print(a)\n",
    "\n",
    "print(a[1,2])\n",
    "print(a[1,:])  # access the whole 2nd row\n",
    "print(a[:,1])  # access the whole 2nd col\n",
    "print(a[1:3,2:4])\n",
    "print(a.T)  # transpose the matrix"
   ]
  },
  {
   "cell_type": "code",
   "execution_count": 42,
   "id": "dafe2269-c8b5-4cd4-8b02-0cb006a85076",
   "metadata": {},
   "outputs": [
    {
     "name": "stdout",
     "output_type": "stream",
     "text": [
      "[[ 0.71841545 -0.7583711   0.54378711]\n",
      " [-1.62468677 -0.87233762  2.12181666]\n",
      " [ 1.2159278   1.86084555 -1.6059509 ]]\n"
     ]
    }
   ],
   "source": [
    "# Linear Algebra library\n",
    "\n",
    "import numpy.linalg as la\n",
    "\n",
    "print(la.inv(np.random.rand(3,3)))  # gives inverse of the values of elements"
   ]
  },
  {
   "cell_type": "code",
   "execution_count": 44,
   "id": "6bb194d7-0a59-48b3-8817-f8b6ef87bc85",
   "metadata": {},
   "outputs": [
    {
     "name": "stdout",
     "output_type": "stream",
     "text": [
      "[[6. 4. 4. 5.]\n",
      " [5. 4. 4. 2.]\n",
      " [1. 6. 4. 0.]\n",
      " [2. 7. 6. 1.]\n",
      " [3. 0. 7. 7.]]\n",
      "[[1. 0. 4. 0.]\n",
      " [2. 4. 4. 1.]\n",
      " [3. 4. 4. 2.]\n",
      " [5. 6. 6. 5.]\n",
      " [6. 7. 7. 7.]]\n",
      "[[0. 0. 1. 4.]\n",
      " [1. 2. 4. 4.]\n",
      " [2. 3. 4. 4.]\n",
      " [5. 5. 6. 6.]\n",
      " [6. 7. 7. 7.]]\n"
     ]
    }
   ],
   "source": [
    "print(a)\n",
    "a.sort(axis=0)   # every col is sorted\n",
    "print(a)\n",
    "a.sort(axis=1)   # every row is sorted\n",
    "print(a)"
   ]
  },
  {
   "cell_type": "code",
   "execution_count": 63,
   "id": "e1de42d8-002a-4dc4-90c2-67aba4f8053c",
   "metadata": {},
   "outputs": [
    {
     "name": "stdout",
     "output_type": "stream",
     "text": [
      "[1 4 6]\n",
      "[-4  4  6]\n",
      "[0 1 2 3 4 5 6 7 8 9]\n",
      "[0 1 4 5 6 8]\n",
      "[0 1 2 3 4 5 6 7]\n",
      "[3 4 5]\n"
     ]
    }
   ],
   "source": [
    "# a[index_array]\n",
    "a = np.arange(10)\n",
    "b = a[[1,4,6]]  # index 1, 4 and 6 elements. It creates copy.\n",
    "print(b)\n",
    "\n",
    "b[0] = -4\n",
    "print(b)\n",
    "print(a)  # a doesn't changes\n",
    "\n",
    "print(a[[True,True,False,False,True,True,True,False,True,False]])  # prints the true indices\n",
    "\n",
    "print(a[a<8])\n",
    "\n",
    "b = a[(a<6) & (a>2)]\n",
    "print(b)\n",
    "\n",
    "# & is used for arrays but 'and' is used for objects"
   ]
  },
  {
   "cell_type": "markdown",
   "id": "b0120917-5eef-46ea-a6b5-1ac9f235feaa",
   "metadata": {
    "jp-MarkdownHeadingCollapsed": true
   },
   "source": [
    "### Broadcasting\n",
    "- Help to apply changes by matching the dimension ans size of the matrix."
   ]
  },
  {
   "cell_type": "code",
   "execution_count": 59,
   "id": "d575fa41-7966-4727-bc53-e4ad159cd02c",
   "metadata": {},
   "outputs": [
    {
     "name": "stdout",
     "output_type": "stream",
     "text": [
      "[0 1 2 3 4 5 6 7 8 9]\n",
      "[ 5  6  7  8  9 10 11 12 13 14]\n"
     ]
    }
   ],
   "source": [
    "print(a)\n",
    "b = a + 5\n",
    "print(b)"
   ]
  },
  {
   "cell_type": "markdown",
   "id": "0a369017-cfec-4010-8830-0c90be7e2828",
   "metadata": {
    "jp-MarkdownHeadingCollapsed": true
   },
   "source": [
    "### Horizontal, Vertical Stack and Sorting\n",
    "- These are Universal functions. They are very fast as their implementation is vectorized(time complexity in implemention at loop layer is reduced)\n",
    "- np.hstack concatenate 2 arrays horizontlly if possible\n",
    "- np.hstack concatenate 2 arrays vertically if possible\n",
    "- "
   ]
  },
  {
   "cell_type": "code",
   "execution_count": 64,
   "id": "fd418952-ed1a-4aac-addf-81561c540971",
   "metadata": {},
   "outputs": [
    {
     "name": "stdout",
     "output_type": "stream",
     "text": [
      "[[ 7.  8.  8.]\n",
      " [ 9. 10.  2.]]\n",
      "[[9. 1.]\n",
      " [7. 9.]]\n",
      "[[ 7.  8.  8.  9.  1.]\n",
      " [ 9. 10.  2.  7.  9.]]\n"
     ]
    }
   ],
   "source": [
    "a = np.round(10*np.random.rand(2,3))\n",
    "print(a)\n",
    "b = np.round(10*np.random.rand(2,2))\n",
    "print(b)\n",
    "c = np.hstack((a,b))  # a,b.. matrices should be in tuple\n",
    "print(c)"
   ]
  },
  {
   "cell_type": "code",
   "execution_count": 70,
   "id": "5c9c3eac-849b-4031-9d16-cf9cbd07aa49",
   "metadata": {},
   "outputs": [
    {
     "name": "stdout",
     "output_type": "stream",
     "text": [
      "[1 6 7 2 0 8 9 3 4 5]\n",
      "[0 1 2 3 4 5 6 7 8 9]\n",
      "['13er' 'abc' 'how are you' 'u765']\n"
     ]
    }
   ],
   "source": [
    "a = np.random.permutation(np.arange(10))\n",
    "print(a)\n",
    "a.sort()\n",
    "print(a)\n",
    "\n",
    "a = np.array([\"abc\", 'how are you', 'u765', '13er'])\n",
    "a.sort()\n",
    "print(a)"
   ]
  },
  {
   "cell_type": "markdown",
   "id": "07eddafd-9747-4f2e-a974-458a9722fb6b",
   "metadata": {},
   "source": [
    "### Time Complexity Comparison"
   ]
  },
  {
   "cell_type": "code",
   "execution_count": 74,
   "id": "0878894b-11ac-4f00-897e-82b980fd2f9e",
   "metadata": {},
   "outputs": [
    {
     "name": "stdout",
     "output_type": "stream",
     "text": [
      "39.6 ms ± 2.92 ms per loop (mean ± std. dev. of 7 runs, 10 loops each)\n",
      "202 μs ± 19.3 μs per loop (mean ± std. dev. of 7 runs, 10,000 loops each)\n",
      "42.4 ms ± 718 μs per loop (mean ± std. dev. of 7 runs, 10 loops each)\n"
     ]
    }
   ],
   "source": [
    "b = np.random.rand(1000000)\n",
    "%timeit sum(b)\n",
    "%timeit np.sum(b)  # universal function\n",
    "\n",
    "def mySum(g):      # custom function\n",
    "    s = 0\n",
    "    for x in g:\n",
    "        s += x\n",
    "    return s\n",
    "\n",
    "%timeit mySum(b)"
   ]
  }
 ],
 "metadata": {
  "kernelspec": {
   "display_name": "Python 3 (ipykernel)",
   "language": "python",
   "name": "python3"
  },
  "language_info": {
   "codemirror_mode": {
    "name": "ipython",
    "version": 3
   },
   "file_extension": ".py",
   "mimetype": "text/x-python",
   "name": "python",
   "nbconvert_exporter": "python",
   "pygments_lexer": "ipython3",
   "version": "3.13.7"
  }
 },
 "nbformat": 4,
 "nbformat_minor": 5
}
